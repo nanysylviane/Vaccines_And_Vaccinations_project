{
 "cells": [
  {
   "cell_type": "markdown",
   "metadata": {},
   "source": [
    "# Imports"
   ]
  },
  {
   "cell_type": "code",
   "execution_count": 79,
   "metadata": {},
   "outputs": [],
   "source": [
    "import pandas as pd\n",
    "import numpy as np\n",
    "\n",
    "from sklearn.preprocessing import LabelEncoder\n",
    "import warnings\n",
    "warnings.filterwarnings('ignore')"
   ]
  },
  {
   "cell_type": "markdown",
   "metadata": {},
   "source": [
    "## Data 2018"
   ]
  },
  {
   "cell_type": "code",
   "execution_count": 80,
   "metadata": {},
   "outputs": [],
   "source": [
    "data_2018 = pd.read_csv('VAERSDATA2018.csv')"
   ]
  },
  {
   "cell_type": "code",
   "execution_count": 81,
   "metadata": {},
   "outputs": [],
   "source": [
    "data_labels = pd.read_csv('VAERSVAX2018.csv')"
   ]
  },
  {
   "cell_type": "code",
   "execution_count": 82,
   "metadata": {},
   "outputs": [
    {
     "data": {
      "text/plain": [
       "Index(['VAERS_ID', 'RECVDATE', 'STATE', 'AGE_YRS', 'CAGE_YR', 'CAGE_MO', 'SEX',\n",
       "       'RPT_DATE', 'SYMPTOM_TEXT', 'DIED', 'DATEDIED', 'L_THREAT', 'ER_VISIT',\n",
       "       'HOSPITAL', 'HOSPDAYS', 'X_STAY', 'DISABLE', 'RECOVD', 'VAX_DATE',\n",
       "       'ONSET_DATE', 'NUMDAYS', 'LAB_DATA', 'V_ADMINBY', 'V_FUNDBY',\n",
       "       'OTHER_MEDS', 'CUR_ILL', 'HISTORY', 'PRIOR_VAX', 'SPLTTYPE',\n",
       "       'FORM_VERS', 'TODAYS_DATE', 'BIRTH_DEFECT', 'OFC_VISIT', 'ER_ED_VISIT',\n",
       "       'ALLERGIES'],\n",
       "      dtype='object')"
      ]
     },
     "execution_count": 82,
     "metadata": {},
     "output_type": "execute_result"
    }
   ],
   "source": [
    "data_2018.columns"
   ]
  },
  {
   "cell_type": "code",
   "execution_count": 83,
   "metadata": {},
   "outputs": [
    {
     "data": {
      "text/plain": [
       "Index(['VAERS_ID', 'VAX_TYPE', 'VAX_MANU', 'VAX_LOT', 'VAX_DOSE_SERIES',\n",
       "       'VAX_ROUTE', 'VAX_SITE', 'VAX_NAME'],\n",
       "      dtype='object')"
      ]
     },
     "execution_count": 83,
     "metadata": {},
     "output_type": "execute_result"
    }
   ],
   "source": [
    "data_labels.columns"
   ]
  },
  {
   "cell_type": "markdown",
   "metadata": {},
   "source": [
    "## Data 2017"
   ]
  },
  {
   "cell_type": "code",
   "execution_count": 84,
   "metadata": {},
   "outputs": [
    {
     "data": {
      "text/html": [
       "<div>\n",
       "<style scoped>\n",
       "    .dataframe tbody tr th:only-of-type {\n",
       "        vertical-align: middle;\n",
       "    }\n",
       "\n",
       "    .dataframe tbody tr th {\n",
       "        vertical-align: top;\n",
       "    }\n",
       "\n",
       "    .dataframe thead th {\n",
       "        text-align: right;\n",
       "    }\n",
       "</style>\n",
       "<table border=\"1\" class=\"dataframe\">\n",
       "  <thead>\n",
       "    <tr style=\"text-align: right;\">\n",
       "      <th></th>\n",
       "      <th>VAERS_ID</th>\n",
       "      <th>RECVDATE</th>\n",
       "      <th>STATE</th>\n",
       "      <th>AGE_YRS</th>\n",
       "      <th>CAGE_YR</th>\n",
       "      <th>CAGE_MO</th>\n",
       "      <th>SEX</th>\n",
       "      <th>RPT_DATE</th>\n",
       "      <th>SYMPTOM_TEXT</th>\n",
       "      <th>DIED</th>\n",
       "      <th>...</th>\n",
       "      <th>CUR_ILL</th>\n",
       "      <th>HISTORY</th>\n",
       "      <th>PRIOR_VAX</th>\n",
       "      <th>SPLTTYPE</th>\n",
       "      <th>FORM_VERS</th>\n",
       "      <th>TODAYS_DATE</th>\n",
       "      <th>BIRTH_DEFECT</th>\n",
       "      <th>OFC_VISIT</th>\n",
       "      <th>ER_ED_VISIT</th>\n",
       "      <th>ALLERGIES</th>\n",
       "    </tr>\n",
       "  </thead>\n",
       "  <tbody>\n",
       "    <tr>\n",
       "      <th>0</th>\n",
       "      <td>676017</td>\n",
       "      <td>1/1/17</td>\n",
       "      <td>GA</td>\n",
       "      <td>1.5</td>\n",
       "      <td>1.0</td>\n",
       "      <td>0.6</td>\n",
       "      <td>M</td>\n",
       "      <td>1/1/17</td>\n",
       "      <td>After getting Hep A vaccination on 12/20, went...</td>\n",
       "      <td>NaN</td>\n",
       "      <td>...</td>\n",
       "      <td>No</td>\n",
       "      <td>NaN</td>\n",
       "      <td>NaN</td>\n",
       "      <td>NaN</td>\n",
       "      <td>1</td>\n",
       "      <td>NaN</td>\n",
       "      <td>NaN</td>\n",
       "      <td>NaN</td>\n",
       "      <td>NaN</td>\n",
       "      <td>NaN</td>\n",
       "    </tr>\n",
       "    <tr>\n",
       "      <th>1</th>\n",
       "      <td>676018</td>\n",
       "      <td>1/1/17</td>\n",
       "      <td>VA</td>\n",
       "      <td>69.0</td>\n",
       "      <td>69.0</td>\n",
       "      <td>NaN</td>\n",
       "      <td>M</td>\n",
       "      <td>1/1/17</td>\n",
       "      <td>EDEMA ERYTHEMA PAIN TENDERNESS.</td>\n",
       "      <td>NaN</td>\n",
       "      <td>...</td>\n",
       "      <td>NO</td>\n",
       "      <td>NO</td>\n",
       "      <td>NaN</td>\n",
       "      <td>NaN</td>\n",
       "      <td>1</td>\n",
       "      <td>NaN</td>\n",
       "      <td>NaN</td>\n",
       "      <td>NaN</td>\n",
       "      <td>NaN</td>\n",
       "      <td>NaN</td>\n",
       "    </tr>\n",
       "  </tbody>\n",
       "</table>\n",
       "<p>2 rows × 35 columns</p>\n",
       "</div>"
      ],
      "text/plain": [
       "   VAERS_ID RECVDATE STATE  AGE_YRS  CAGE_YR  CAGE_MO SEX RPT_DATE  \\\n",
       "0    676017   1/1/17    GA      1.5      1.0      0.6   M   1/1/17   \n",
       "1    676018   1/1/17    VA     69.0     69.0      NaN   M   1/1/17   \n",
       "\n",
       "                                        SYMPTOM_TEXT DIED    ...    CUR_ILL  \\\n",
       "0  After getting Hep A vaccination on 12/20, went...  NaN    ...         No   \n",
       "1                    EDEMA ERYTHEMA PAIN TENDERNESS.  NaN    ...         NO   \n",
       "\n",
       "  HISTORY PRIOR_VAX SPLTTYPE  FORM_VERS TODAYS_DATE BIRTH_DEFECT OFC_VISIT  \\\n",
       "0     NaN       NaN      NaN          1         NaN          NaN       NaN   \n",
       "1      NO       NaN      NaN          1         NaN          NaN       NaN   \n",
       "\n",
       "  ER_ED_VISIT ALLERGIES  \n",
       "0         NaN       NaN  \n",
       "1         NaN       NaN  \n",
       "\n",
       "[2 rows x 35 columns]"
      ]
     },
     "execution_count": 84,
     "metadata": {},
     "output_type": "execute_result"
    }
   ],
   "source": [
    "data2017 = pd.read_csv('VAERS2017Data.csv')\n",
    "data2017.head(2)"
   ]
  },
  {
   "cell_type": "code",
   "execution_count": 85,
   "metadata": {},
   "outputs": [
    {
     "data": {
      "text/html": [
       "<div>\n",
       "<style scoped>\n",
       "    .dataframe tbody tr th:only-of-type {\n",
       "        vertical-align: middle;\n",
       "    }\n",
       "\n",
       "    .dataframe tbody tr th {\n",
       "        vertical-align: top;\n",
       "    }\n",
       "\n",
       "    .dataframe thead th {\n",
       "        text-align: right;\n",
       "    }\n",
       "</style>\n",
       "<table border=\"1\" class=\"dataframe\">\n",
       "  <thead>\n",
       "    <tr style=\"text-align: right;\">\n",
       "      <th></th>\n",
       "      <th>VAERS_ID</th>\n",
       "      <th>VAX_TYPE</th>\n",
       "      <th>VAX_MANU</th>\n",
       "      <th>VAX_LOT</th>\n",
       "      <th>VAX_DOSE_SERIES</th>\n",
       "      <th>VAX_ROUTE</th>\n",
       "      <th>VAX_SITE</th>\n",
       "      <th>VAX_NAME</th>\n",
       "    </tr>\n",
       "  </thead>\n",
       "  <tbody>\n",
       "    <tr>\n",
       "      <th>0</th>\n",
       "      <td>676017</td>\n",
       "      <td>HEPA</td>\n",
       "      <td>MERCK &amp; CO. INC.</td>\n",
       "      <td>M032492</td>\n",
       "      <td>2</td>\n",
       "      <td>IM</td>\n",
       "      <td>LL</td>\n",
       "      <td>HEP A (VAQTA)</td>\n",
       "    </tr>\n",
       "    <tr>\n",
       "      <th>1</th>\n",
       "      <td>676018</td>\n",
       "      <td>PPV</td>\n",
       "      <td>MERCK &amp; CO. INC.</td>\n",
       "      <td>NaN</td>\n",
       "      <td>UNK</td>\n",
       "      <td>NaN</td>\n",
       "      <td>NaN</td>\n",
       "      <td>PNEUMO (PNEUMOVAX)</td>\n",
       "    </tr>\n",
       "  </tbody>\n",
       "</table>\n",
       "</div>"
      ],
      "text/plain": [
       "   VAERS_ID VAX_TYPE          VAX_MANU  VAX_LOT VAX_DOSE_SERIES VAX_ROUTE  \\\n",
       "0    676017     HEPA  MERCK & CO. INC.  M032492               2        IM   \n",
       "1    676018      PPV  MERCK & CO. INC.      NaN             UNK       NaN   \n",
       "\n",
       "  VAX_SITE            VAX_NAME  \n",
       "0       LL       HEP A (VAQTA)  \n",
       "1      NaN  PNEUMO (PNEUMOVAX)  "
      ]
     },
     "execution_count": 85,
     "metadata": {},
     "output_type": "execute_result"
    }
   ],
   "source": [
    "data_labels_2017 = pd.read_csv('VAERS2017VAX.csv')\n",
    "data_labels_2017.head(2)"
   ]
  },
  {
   "cell_type": "code",
   "execution_count": 86,
   "metadata": {},
   "outputs": [],
   "source": [
    "df2017 = data2017.merge(data_labels_2017 , on = 'VAERS_ID')"
   ]
  },
  {
   "cell_type": "code",
   "execution_count": 87,
   "metadata": {},
   "outputs": [],
   "source": [
    "df2017 = df2017[['VAERS_ID', 'STATE', 'AGE_YRS', 'SEX', 'VAX_NAME']]"
   ]
  },
  {
   "cell_type": "code",
   "execution_count": 88,
   "metadata": {},
   "outputs": [
    {
     "data": {
      "text/html": [
       "<div>\n",
       "<style scoped>\n",
       "    .dataframe tbody tr th:only-of-type {\n",
       "        vertical-align: middle;\n",
       "    }\n",
       "\n",
       "    .dataframe tbody tr th {\n",
       "        vertical-align: top;\n",
       "    }\n",
       "\n",
       "    .dataframe thead th {\n",
       "        text-align: right;\n",
       "    }\n",
       "</style>\n",
       "<table border=\"1\" class=\"dataframe\">\n",
       "  <thead>\n",
       "    <tr style=\"text-align: right;\">\n",
       "      <th></th>\n",
       "      <th>VAERS_ID</th>\n",
       "      <th>STATE</th>\n",
       "      <th>AGE_YRS</th>\n",
       "      <th>SEX</th>\n",
       "      <th>VAX_NAME</th>\n",
       "    </tr>\n",
       "  </thead>\n",
       "  <tbody>\n",
       "    <tr>\n",
       "      <th>0</th>\n",
       "      <td>676017</td>\n",
       "      <td>GA</td>\n",
       "      <td>1.5</td>\n",
       "      <td>M</td>\n",
       "      <td>HEP A (VAQTA)</td>\n",
       "    </tr>\n",
       "    <tr>\n",
       "      <th>1</th>\n",
       "      <td>676018</td>\n",
       "      <td>VA</td>\n",
       "      <td>69.0</td>\n",
       "      <td>M</td>\n",
       "      <td>PNEUMO (PNEUMOVAX)</td>\n",
       "    </tr>\n",
       "    <tr>\n",
       "      <th>2</th>\n",
       "      <td>676019</td>\n",
       "      <td>OH</td>\n",
       "      <td>53.0</td>\n",
       "      <td>F</td>\n",
       "      <td>INFLUENZA (SEASONAL) (FLUVIRIN)</td>\n",
       "    </tr>\n",
       "    <tr>\n",
       "      <th>3</th>\n",
       "      <td>676019</td>\n",
       "      <td>OH</td>\n",
       "      <td>53.0</td>\n",
       "      <td>F</td>\n",
       "      <td>HEP B (RECOMBIVAX HB)</td>\n",
       "    </tr>\n",
       "    <tr>\n",
       "      <th>4</th>\n",
       "      <td>676019</td>\n",
       "      <td>OH</td>\n",
       "      <td>53.0</td>\n",
       "      <td>F</td>\n",
       "      <td>PNEUMO (PNEUMOVAX)</td>\n",
       "    </tr>\n",
       "  </tbody>\n",
       "</table>\n",
       "</div>"
      ],
      "text/plain": [
       "   VAERS_ID STATE  AGE_YRS SEX                         VAX_NAME\n",
       "0    676017    GA      1.5   M                    HEP A (VAQTA)\n",
       "1    676018    VA     69.0   M               PNEUMO (PNEUMOVAX)\n",
       "2    676019    OH     53.0   F  INFLUENZA (SEASONAL) (FLUVIRIN)\n",
       "3    676019    OH     53.0   F            HEP B (RECOMBIVAX HB)\n",
       "4    676019    OH     53.0   F               PNEUMO (PNEUMOVAX)"
      ]
     },
     "execution_count": 88,
     "metadata": {},
     "output_type": "execute_result"
    }
   ],
   "source": [
    "df2017.head()"
   ]
  },
  {
   "cell_type": "code",
   "execution_count": 89,
   "metadata": {},
   "outputs": [],
   "source": [
    "col_str = df2017.VAX_NAME.str.split('(').str[0]"
   ]
  },
  {
   "cell_type": "code",
   "execution_count": 90,
   "metadata": {},
   "outputs": [],
   "source": [
    "df2017['Vaccine_Name'] = col_str"
   ]
  },
  {
   "cell_type": "code",
   "execution_count": 91,
   "metadata": {},
   "outputs": [],
   "source": [
    "df2017 = df2017.drop(columns = 'VAX_NAME')"
   ]
  },
  {
   "cell_type": "code",
   "execution_count": 92,
   "metadata": {},
   "outputs": [],
   "source": [
    "df2017 = df2017.dropna()"
   ]
  },
  {
   "cell_type": "code",
   "execution_count": 93,
   "metadata": {},
   "outputs": [],
   "source": [
    "bins = [0,.17,.33,.5,1,2,3,6,10,13,18,26,60,100]"
   ]
  },
  {
   "cell_type": "code",
   "execution_count": 94,
   "metadata": {},
   "outputs": [],
   "source": [
    "lablels = ['< 2 months', '2-4 months', '4-6 months',\n",
    "          '6 months - 1 year', '1-2 years', '2-3 years', '3-6 years',\n",
    "          '6-10 years' , '10-13 years', '13-18 years', '18-26 years', '26-60 years', '60 or Older'\n",
    "         ]"
   ]
  },
  {
   "cell_type": "code",
   "execution_count": 95,
   "metadata": {},
   "outputs": [],
   "source": [
    "df2017['Age_Categories'] = pd.cut(df2017['AGE_YRS'], bins, labels= lablels)"
   ]
  },
  {
   "cell_type": "code",
   "execution_count": 96,
   "metadata": {},
   "outputs": [],
   "source": [
    "#df2017"
   ]
  },
  {
   "cell_type": "code",
   "execution_count": 97,
   "metadata": {},
   "outputs": [],
   "source": [
    "#df2017.to_csv('df2017.csv')"
   ]
  },
  {
   "cell_type": "code",
   "execution_count": null,
   "metadata": {},
   "outputs": [],
   "source": []
  },
  {
   "cell_type": "markdown",
   "metadata": {},
   "source": [
    "## Join of two tables"
   ]
  },
  {
   "cell_type": "code",
   "execution_count": 98,
   "metadata": {},
   "outputs": [],
   "source": [
    "df_2018 = data_2018.merge(data_labels, 'inner', on = 'VAERS_ID')"
   ]
  },
  {
   "cell_type": "code",
   "execution_count": 99,
   "metadata": {},
   "outputs": [],
   "source": [
    "df_2018 = df_2018[['VAERS_ID', 'SEX','STATE', 'AGE_YRS', 'VAX_NAME']]"
   ]
  },
  {
   "cell_type": "code",
   "execution_count": 100,
   "metadata": {},
   "outputs": [
    {
     "data": {
      "text/html": [
       "<div>\n",
       "<style scoped>\n",
       "    .dataframe tbody tr th:only-of-type {\n",
       "        vertical-align: middle;\n",
       "    }\n",
       "\n",
       "    .dataframe tbody tr th {\n",
       "        vertical-align: top;\n",
       "    }\n",
       "\n",
       "    .dataframe thead th {\n",
       "        text-align: right;\n",
       "    }\n",
       "</style>\n",
       "<table border=\"1\" class=\"dataframe\">\n",
       "  <thead>\n",
       "    <tr style=\"text-align: right;\">\n",
       "      <th></th>\n",
       "      <th>VAERS_ID</th>\n",
       "      <th>SEX</th>\n",
       "      <th>STATE</th>\n",
       "      <th>AGE_YRS</th>\n",
       "      <th>VAX_NAME</th>\n",
       "    </tr>\n",
       "  </thead>\n",
       "  <tbody>\n",
       "    <tr>\n",
       "      <th>0</th>\n",
       "      <td>732217</td>\n",
       "      <td>F</td>\n",
       "      <td>TN</td>\n",
       "      <td>66.00</td>\n",
       "      <td>VACCINE NOT SPECIFIED (NO BRAND NAME)</td>\n",
       "    </tr>\n",
       "    <tr>\n",
       "      <th>1</th>\n",
       "      <td>732218</td>\n",
       "      <td>F</td>\n",
       "      <td>NY</td>\n",
       "      <td>0.33</td>\n",
       "      <td>DTAP + IPV + HIB (PENTACEL)</td>\n",
       "    </tr>\n",
       "  </tbody>\n",
       "</table>\n",
       "</div>"
      ],
      "text/plain": [
       "   VAERS_ID SEX STATE  AGE_YRS                               VAX_NAME\n",
       "0    732217   F    TN    66.00  VACCINE NOT SPECIFIED (NO BRAND NAME)\n",
       "1    732218   F    NY     0.33            DTAP + IPV + HIB (PENTACEL)"
      ]
     },
     "execution_count": 100,
     "metadata": {},
     "output_type": "execute_result"
    }
   ],
   "source": [
    "df_2018.head(2)"
   ]
  },
  {
   "cell_type": "markdown",
   "metadata": {},
   "source": [
    "## Filter the VAX_NAME"
   ]
  },
  {
   "cell_type": "code",
   "execution_count": 101,
   "metadata": {},
   "outputs": [],
   "source": [
    "col_str = df_2018.VAX_NAME.str.split('(').str[0]"
   ]
  },
  {
   "cell_type": "code",
   "execution_count": 102,
   "metadata": {},
   "outputs": [],
   "source": [
    "df_2018['Vaccine_Name'] = col_str"
   ]
  },
  {
   "cell_type": "code",
   "execution_count": 103,
   "metadata": {},
   "outputs": [],
   "source": [
    "df_2018 = df_2018.drop(columns = 'VAX_NAME')"
   ]
  },
  {
   "cell_type": "code",
   "execution_count": 104,
   "metadata": {},
   "outputs": [],
   "source": [
    "df_2018 = df_2018.dropna()"
   ]
  },
  {
   "cell_type": "code",
   "execution_count": 105,
   "metadata": {},
   "outputs": [],
   "source": [
    "dataframe_2018 = df_2018.copy()"
   ]
  },
  {
   "cell_type": "code",
   "execution_count": 106,
   "metadata": {},
   "outputs": [
    {
     "data": {
      "text/html": [
       "<div>\n",
       "<style scoped>\n",
       "    .dataframe tbody tr th:only-of-type {\n",
       "        vertical-align: middle;\n",
       "    }\n",
       "\n",
       "    .dataframe tbody tr th {\n",
       "        vertical-align: top;\n",
       "    }\n",
       "\n",
       "    .dataframe thead th {\n",
       "        text-align: right;\n",
       "    }\n",
       "</style>\n",
       "<table border=\"1\" class=\"dataframe\">\n",
       "  <thead>\n",
       "    <tr style=\"text-align: right;\">\n",
       "      <th></th>\n",
       "      <th>VAERS_ID</th>\n",
       "      <th>SEX</th>\n",
       "      <th>STATE</th>\n",
       "      <th>AGE_YRS</th>\n",
       "      <th>Vaccine_Name</th>\n",
       "    </tr>\n",
       "  </thead>\n",
       "  <tbody>\n",
       "    <tr>\n",
       "      <th>0</th>\n",
       "      <td>732217</td>\n",
       "      <td>F</td>\n",
       "      <td>TN</td>\n",
       "      <td>66.00</td>\n",
       "      <td>VACCINE NOT SPECIFIED</td>\n",
       "    </tr>\n",
       "    <tr>\n",
       "      <th>1</th>\n",
       "      <td>732218</td>\n",
       "      <td>F</td>\n",
       "      <td>NY</td>\n",
       "      <td>0.33</td>\n",
       "      <td>DTAP + IPV + HIB</td>\n",
       "    </tr>\n",
       "  </tbody>\n",
       "</table>\n",
       "</div>"
      ],
      "text/plain": [
       "   VAERS_ID SEX STATE  AGE_YRS            Vaccine_Name\n",
       "0    732217   F    TN    66.00  VACCINE NOT SPECIFIED \n",
       "1    732218   F    NY     0.33       DTAP + IPV + HIB "
      ]
     },
     "execution_count": 106,
     "metadata": {},
     "output_type": "execute_result"
    }
   ],
   "source": [
    "df_2018.head(2)"
   ]
  },
  {
   "cell_type": "code",
   "execution_count": 107,
   "metadata": {},
   "outputs": [],
   "source": [
    "## 2 Dataframe will be required for the project"
   ]
  },
  {
   "cell_type": "markdown",
   "metadata": {},
   "source": [
    "### DF 1: AGE Demographics"
   ]
  },
  {
   "cell_type": "markdown",
   "metadata": {},
   "source": [
    "#### Drop Null Values"
   ]
  },
  {
   "cell_type": "code",
   "execution_count": 108,
   "metadata": {},
   "outputs": [],
   "source": [
    "df_2018[\"Vaccine_Name\"] = df_2018[\"Vaccine_Name\"].str.strip()"
   ]
  },
  {
   "cell_type": "markdown",
   "metadata": {},
   "source": [
    "#### Place Bins"
   ]
  },
  {
   "cell_type": "code",
   "execution_count": 109,
   "metadata": {},
   "outputs": [],
   "source": [
    "bins = [0,.17,.33,.5,1,2,3,6,10,13,18,26,60,100]"
   ]
  },
  {
   "cell_type": "code",
   "execution_count": 110,
   "metadata": {},
   "outputs": [],
   "source": [
    "lablels = ['< 2 months', '2-4 months', '4-6 months',\n",
    "          '6 months - 1 year', '1-2 years', '2-3 years', '3-6 years',\n",
    "          '6-10 years' , '10-13 years', '13-18 years', '18-26 years', '26-60 years', '60 or Older'\n",
    "         ]"
   ]
  },
  {
   "cell_type": "code",
   "execution_count": 111,
   "metadata": {},
   "outputs": [],
   "source": [
    "df_2018['Age_Categories'] = pd.cut(df_2018['AGE_YRS'], bins, labels= lablels)"
   ]
  },
  {
   "cell_type": "markdown",
   "metadata": {},
   "source": [
    "#### Vaccine Types"
   ]
  },
  {
   "cell_type": "code",
   "execution_count": 112,
   "metadata": {},
   "outputs": [],
   "source": [
    "vaccine_type_key_2017 = pd.read_csv('a.csv')"
   ]
  },
  {
   "cell_type": "code",
   "execution_count": 113,
   "metadata": {},
   "outputs": [
    {
     "data": {
      "text/plain": [
       "Combined                                                    25\n",
       "SRPC                                                        12\n",
       "Live-Attenuated                                             11\n",
       "Inactivated                                                  6\n",
       "Toxoid                                                       4\n",
       "Oddly Lyme vaccines have not been available since 2002.      1\n",
       "Name: Key, dtype: int64"
      ]
     },
     "execution_count": 113,
     "metadata": {},
     "output_type": "execute_result"
    }
   ],
   "source": [
    "vaccine_type_key_2017['Key'].value_counts()"
   ]
  },
  {
   "cell_type": "code",
   "execution_count": 114,
   "metadata": {},
   "outputs": [],
   "source": [
    "length_of_vaccine_type_key_2017 = len(vaccine_type_key_2017['Key'])"
   ]
  },
  {
   "cell_type": "code",
   "execution_count": 115,
   "metadata": {},
   "outputs": [],
   "source": [
    "Inactivated_2017 = []\n",
    "SRPC_2017 = []\n",
    "Combined_2017 = []\n",
    "Toxoid_2017=[]\n",
    "LiveAttenuated_2017 = []\n",
    "\n",
    "for i in range(length_of_vaccine_type_key_2017):\n",
    "    if vaccine_type_key_2017.iloc[i,1] == \"Inactivated\":\n",
    "        Inactivated_2017.append(vaccine_type_key_2017.iloc[i,0])\n",
    "        \n",
    "    elif vaccine_type_key_2017.iloc[i,1] == \"Combined\":\n",
    "        Combined_2017.append(vaccine_type_key_2017.iloc[i,0])\n",
    "        \n",
    "    elif vaccine_type_key_2017.iloc[i,1] == \"SRPC\":\n",
    "        SRPC_2017.append(vaccine_type_key_2017.iloc[i,0])\n",
    "        \n",
    "    elif vaccine_type_key_2017.iloc[i,1] == \"Live-Attenuated\":\n",
    "        LiveAttenuated_2017.append(vaccine_type_key_2017.iloc[i,0])\n",
    "    \n",
    "    elif vaccine_type_key_2017.iloc[i,1] == \"Toxoid\":\n",
    "        Toxoid_2017.append(vaccine_type_key_2017.iloc[i,0])\n",
    "  \n",
    "        \n",
    "   "
   ]
  },
  {
   "cell_type": "code",
   "execution_count": 116,
   "metadata": {},
   "outputs": [
    {
     "data": {
      "text/plain": [
       "['TETANUS DIPHTHERIA ',\n",
       " 'DIPHTHERIA TOXOIDS ',\n",
       " 'TETANUS TOXOID ',\n",
       " 'TETANUS TOXOID, ADSORBED ']"
      ]
     },
     "execution_count": 116,
     "metadata": {},
     "output_type": "execute_result"
    }
   ],
   "source": [
    "Inactivated_2017\n",
    "SRPC_2017\n",
    "Combined_2017\n",
    "Toxoid_2017\n"
   ]
  },
  {
   "cell_type": "code",
   "execution_count": 117,
   "metadata": {},
   "outputs": [
    {
     "name": "stdout",
     "output_type": "stream",
     "text": [
      "VACCINE NOT SPECIFIED \n",
      "VACCINE NOT SPECIFIED \n",
      "VACCINE NOT SPECIFIED \n",
      "VACCINE NOT SPECIFIED \n",
      "VACCINE NOT SPECIFIED \n",
      "VACCINE NOT SPECIFIED \n",
      "VACCINE NOT SPECIFIED \n",
      "VACCINE NOT SPECIFIED \n",
      "VACCINE NOT SPECIFIED \n",
      "VACCINE NOT SPECIFIED \n",
      "VACCINE NOT SPECIFIED \n",
      "VACCINE NOT SPECIFIED \n",
      "VACCINE NOT SPECIFIED \n",
      "VACCINE NOT SPECIFIED \n",
      "VACCINE NOT SPECIFIED \n",
      "VACCINE NOT SPECIFIED \n",
      "VACCINE NOT SPECIFIED \n",
      "VACCINE NOT SPECIFIED \n",
      "VACCINE NOT SPECIFIED \n",
      "VACCINE NOT SPECIFIED \n",
      "VACCINE NOT SPECIFIED \n",
      "VACCINE NOT SPECIFIED \n",
      "VACCINE NOT SPECIFIED \n",
      "VACCINE NOT SPECIFIED \n",
      "VACCINE NOT SPECIFIED \n",
      "VACCINE NOT SPECIFIED \n",
      "VACCINE NOT SPECIFIED \n",
      "VACCINE NOT SPECIFIED \n",
      "VACCINE NOT SPECIFIED \n",
      "VACCINE NOT SPECIFIED \n",
      "VACCINE NOT SPECIFIED \n",
      "VACCINE NOT SPECIFIED \n",
      "VACCINE NOT SPECIFIED \n",
      "VACCINE NOT SPECIFIED \n",
      "VACCINE NOT SPECIFIED \n",
      "VACCINE NOT SPECIFIED \n",
      "VACCINE NOT SPECIFIED \n",
      "VACCINE NOT SPECIFIED \n",
      "VACCINE NOT SPECIFIED \n",
      "VACCINE NOT SPECIFIED \n",
      "VACCINE NOT SPECIFIED \n",
      "VACCINE NOT SPECIFIED \n",
      "VACCINE NOT SPECIFIED \n",
      "VACCINE NOT SPECIFIED \n",
      "VACCINE NOT SPECIFIED \n",
      "VACCINE NOT SPECIFIED \n",
      "VACCINE NOT SPECIFIED \n",
      "VACCINE NOT SPECIFIED \n",
      "VACCINE NOT SPECIFIED \n",
      "VACCINE NOT SPECIFIED \n",
      "VACCINE NOT SPECIFIED \n",
      "VACCINE NOT SPECIFIED \n",
      "VACCINE NOT SPECIFIED \n",
      "VACCINE NOT SPECIFIED \n",
      "VACCINE NOT SPECIFIED \n",
      "VACCINE NOT SPECIFIED \n",
      "VACCINE NOT SPECIFIED \n",
      "VACCINE NOT SPECIFIED \n",
      "VACCINE NOT SPECIFIED \n",
      "VACCINE NOT SPECIFIED \n",
      "VACCINE NOT SPECIFIED \n",
      "VACCINE NOT SPECIFIED \n",
      "VACCINE NOT SPECIFIED \n",
      "VACCINE NOT SPECIFIED \n",
      "VACCINE NOT SPECIFIED \n",
      "VACCINE NOT SPECIFIED \n",
      "VACCINE NOT SPECIFIED \n",
      "VACCINE NOT SPECIFIED \n",
      "VACCINE NOT SPECIFIED \n",
      "VACCINE NOT SPECIFIED \n",
      "VACCINE NOT SPECIFIED \n",
      "VACCINE NOT SPECIFIED \n",
      "VACCINE NOT SPECIFIED \n",
      "VACCINE NOT SPECIFIED \n",
      "VACCINE NOT SPECIFIED \n",
      "VACCINE NOT SPECIFIED \n",
      "VACCINE NOT SPECIFIED \n",
      "VACCINE NOT SPECIFIED \n",
      "VACCINE NOT SPECIFIED \n",
      "VACCINE NOT SPECIFIED \n",
      "VACCINE NOT SPECIFIED \n",
      "VACCINE NOT SPECIFIED \n",
      "VACCINE NOT SPECIFIED \n",
      "VACCINE NOT SPECIFIED \n",
      "VACCINE NOT SPECIFIED \n",
      "VACCINE NOT SPECIFIED \n",
      "VACCINE NOT SPECIFIED \n",
      "VACCINE NOT SPECIFIED \n",
      "VACCINE NOT SPECIFIED \n",
      "VACCINE NOT SPECIFIED \n",
      "VACCINE NOT SPECIFIED \n",
      "VACCINE NOT SPECIFIED \n",
      "VACCINE NOT SPECIFIED \n",
      "VACCINE NOT SPECIFIED \n",
      "VACCINE NOT SPECIFIED \n",
      "VACCINE NOT SPECIFIED \n",
      "VACCINE NOT SPECIFIED \n",
      "VACCINE NOT SPECIFIED \n",
      "VACCINE NOT SPECIFIED \n",
      "VACCINE NOT SPECIFIED \n",
      "VACCINE NOT SPECIFIED \n",
      "VACCINE NOT SPECIFIED \n",
      "VACCINE NOT SPECIFIED \n",
      "VACCINE NOT SPECIFIED \n",
      "VACCINE NOT SPECIFIED \n",
      "VACCINE NOT SPECIFIED \n",
      "VACCINE NOT SPECIFIED \n",
      "VACCINE NOT SPECIFIED \n",
      "VACCINE NOT SPECIFIED \n",
      "VACCINE NOT SPECIFIED \n",
      "VACCINE NOT SPECIFIED \n",
      "VACCINE NOT SPECIFIED \n",
      "VACCINE NOT SPECIFIED \n",
      "VACCINE NOT SPECIFIED \n",
      "VACCINE NOT SPECIFIED \n",
      "VACCINE NOT SPECIFIED \n",
      "VACCINE NOT SPECIFIED \n",
      "VACCINE NOT SPECIFIED \n",
      "VACCINE NOT SPECIFIED \n",
      "VACCINE NOT SPECIFIED \n",
      "VACCINE NOT SPECIFIED \n",
      "VACCINE NOT SPECIFIED \n",
      "VACCINE NOT SPECIFIED \n",
      "VACCINE NOT SPECIFIED \n",
      "VACCINE NOT SPECIFIED \n",
      "VACCINE NOT SPECIFIED \n",
      "VACCINE NOT SPECIFIED \n",
      "VACCINE NOT SPECIFIED \n",
      "VACCINE NOT SPECIFIED \n",
      "VACCINE NOT SPECIFIED \n",
      "VACCINE NOT SPECIFIED \n",
      "VACCINE NOT SPECIFIED \n",
      "VACCINE NOT SPECIFIED \n",
      "VACCINE NOT SPECIFIED \n",
      "VACCINE NOT SPECIFIED \n",
      "VACCINE NOT SPECIFIED \n",
      "VACCINE NOT SPECIFIED \n",
      "VACCINE NOT SPECIFIED \n",
      "VACCINE NOT SPECIFIED \n",
      "VACCINE NOT SPECIFIED \n",
      "VACCINE NOT SPECIFIED \n",
      "VACCINE NOT SPECIFIED \n",
      "VACCINE NOT SPECIFIED \n",
      "VACCINE NOT SPECIFIED \n",
      "VACCINE NOT SPECIFIED \n",
      "VACCINE NOT SPECIFIED \n",
      "VACCINE NOT SPECIFIED \n",
      "VACCINE NOT SPECIFIED \n",
      "VACCINE NOT SPECIFIED \n",
      "VACCINE NOT SPECIFIED \n",
      "VACCINE NOT SPECIFIED \n",
      "VACCINE NOT SPECIFIED \n",
      "VACCINE NOT SPECIFIED \n",
      "VACCINE NOT SPECIFIED \n",
      "VACCINE NOT SPECIFIED \n",
      "VACCINE NOT SPECIFIED \n",
      "VACCINE NOT SPECIFIED \n",
      "VACCINE NOT SPECIFIED \n",
      "VACCINE NOT SPECIFIED \n",
      "VACCINE NOT SPECIFIED \n",
      "VACCINE NOT SPECIFIED \n",
      "VACCINE NOT SPECIFIED \n",
      "VACCINE NOT SPECIFIED \n",
      "VACCINE NOT SPECIFIED \n",
      "VACCINE NOT SPECIFIED \n",
      "VACCINE NOT SPECIFIED \n",
      "VACCINE NOT SPECIFIED \n",
      "VACCINE NOT SPECIFIED \n",
      "VACCINE NOT SPECIFIED \n",
      "VACCINE NOT SPECIFIED \n",
      "VACCINE NOT SPECIFIED \n",
      "VACCINE NOT SPECIFIED \n",
      "VACCINE NOT SPECIFIED \n",
      "VACCINE NOT SPECIFIED \n",
      "VACCINE NOT SPECIFIED \n",
      "VACCINE NOT SPECIFIED \n",
      "VACCINE NOT SPECIFIED \n",
      "VACCINE NOT SPECIFIED \n",
      "VACCINE NOT SPECIFIED \n",
      "VACCINE NOT SPECIFIED \n",
      "VACCINE NOT SPECIFIED \n",
      "VACCINE NOT SPECIFIED \n",
      "VACCINE NOT SPECIFIED \n",
      "VACCINE NOT SPECIFIED \n",
      "VACCINE NOT SPECIFIED \n",
      "VACCINE NOT SPECIFIED \n",
      "VACCINE NOT SPECIFIED \n",
      "VACCINE NOT SPECIFIED \n",
      "VACCINE NOT SPECIFIED \n",
      "VACCINE NOT SPECIFIED \n",
      "VACCINE NOT SPECIFIED \n",
      "VACCINE NOT SPECIFIED \n",
      "VACCINE NOT SPECIFIED \n",
      "VACCINE NOT SPECIFIED \n",
      "VACCINE NOT SPECIFIED \n",
      "VACCINE NOT SPECIFIED \n",
      "VACCINE NOT SPECIFIED \n",
      "VACCINE NOT SPECIFIED \n",
      "VACCINE NOT SPECIFIED \n",
      "VACCINE NOT SPECIFIED \n",
      "VACCINE NOT SPECIFIED \n",
      "VACCINE NOT SPECIFIED \n",
      "VACCINE NOT SPECIFIED \n",
      "VACCINE NOT SPECIFIED \n",
      "VACCINE NOT SPECIFIED \n",
      "VACCINE NOT SPECIFIED \n",
      "VACCINE NOT SPECIFIED \n",
      "VACCINE NOT SPECIFIED \n",
      "VACCINE NOT SPECIFIED \n",
      "VACCINE NOT SPECIFIED \n",
      "LYME \n",
      "VACCINE NOT SPECIFIED \n",
      "VACCINE NOT SPECIFIED \n",
      "VACCINE NOT SPECIFIED \n",
      "VACCINE NOT SPECIFIED \n",
      "VACCINE NOT SPECIFIED \n"
     ]
    }
   ],
   "source": [
    "vaccine_category_2017 = []\n",
    "\n",
    "\n",
    "# for in in df_2018['Vaccine_Name']:\n",
    "for i in df2017['Vaccine_Name']:\n",
    "    if i in Inactivated_2017:\n",
    "        vaccine_category_2017.append('Inactivated')\n",
    "    elif i in SRPC_2017:\n",
    "        vaccine_category_2017.append('SRPC')\n",
    "    elif i in Combined_2017:\n",
    "        vaccine_category_2017.append('Combined')\n",
    "    elif i in Toxoid_2017:\n",
    "        vaccine_category_2017.append('Toxoid')\n",
    "    elif i in LiveAttenuated_2017:\n",
    "        vaccine_category_2017.append('LiveAttenuated')\n",
    "    else:\n",
    "        print(i)\n",
    "        vaccine_category_2017.append('None')\n",
    "        \n",
    "\n",
    "        \n",
    "\n",
    "\n",
    "\n",
    "        \n",
    "            \n",
    "            "
   ]
  },
  {
   "cell_type": "code",
   "execution_count": 118,
   "metadata": {},
   "outputs": [],
   "source": [
    "df2017['Vaccine_Category'] = vaccine_category_2017"
   ]
  },
  {
   "cell_type": "code",
   "execution_count": 119,
   "metadata": {},
   "outputs": [
    {
     "data": {
      "text/plain": [
       "SRPC              14147\n",
       "Inactivated       10892\n",
       "Combined           7354\n",
       "LiveAttenuated     2780\n",
       "None                216\n",
       "Toxoid               43\n",
       "Name: Vaccine_Category, dtype: int64"
      ]
     },
     "execution_count": 119,
     "metadata": {},
     "output_type": "execute_result"
    }
   ],
   "source": [
    "df2017['Vaccine_Category'].value_counts()"
   ]
  },
  {
   "cell_type": "code",
   "execution_count": 120,
   "metadata": {},
   "outputs": [],
   "source": [
    "vaccine_type_key_2018 = pd.read_csv('b.csv')"
   ]
  },
  {
   "cell_type": "code",
   "execution_count": 121,
   "metadata": {},
   "outputs": [
    {
     "data": {
      "text/html": [
       "<div>\n",
       "<style scoped>\n",
       "    .dataframe tbody tr th:only-of-type {\n",
       "        vertical-align: middle;\n",
       "    }\n",
       "\n",
       "    .dataframe tbody tr th {\n",
       "        vertical-align: top;\n",
       "    }\n",
       "\n",
       "    .dataframe thead th {\n",
       "        text-align: right;\n",
       "    }\n",
       "</style>\n",
       "<table border=\"1\" class=\"dataframe\">\n",
       "  <thead>\n",
       "    <tr style=\"text-align: right;\">\n",
       "      <th></th>\n",
       "      <th>2018</th>\n",
       "      <th>Key</th>\n",
       "    </tr>\n",
       "  </thead>\n",
       "  <tbody>\n",
       "    <tr>\n",
       "      <th>0</th>\n",
       "      <td>VACCINE NOT SPECIFIED</td>\n",
       "      <td>NaN</td>\n",
       "    </tr>\n",
       "    <tr>\n",
       "      <th>1</th>\n",
       "      <td>DTAP + IPV + HIB</td>\n",
       "      <td>Combined</td>\n",
       "    </tr>\n",
       "    <tr>\n",
       "      <th>2</th>\n",
       "      <td>PNEUMO</td>\n",
       "      <td>SRPC</td>\n",
       "    </tr>\n",
       "    <tr>\n",
       "      <th>3</th>\n",
       "      <td>ROTAVIRUS</td>\n",
       "      <td>Live-Attenuated</td>\n",
       "    </tr>\n",
       "    <tr>\n",
       "      <th>4</th>\n",
       "      <td>ZOSTER</td>\n",
       "      <td>SRPC</td>\n",
       "    </tr>\n",
       "  </tbody>\n",
       "</table>\n",
       "</div>"
      ],
      "text/plain": [
       "                    2018             Key \n",
       "0  VACCINE NOT SPECIFIED              NaN\n",
       "1       DTAP + IPV + HIB         Combined\n",
       "2                 PNEUMO             SRPC\n",
       "3              ROTAVIRUS  Live-Attenuated\n",
       "4                 ZOSTER             SRPC"
      ]
     },
     "execution_count": 121,
     "metadata": {},
     "output_type": "execute_result"
    }
   ],
   "source": [
    "vaccine_type_key_2018.head()"
   ]
  },
  {
   "cell_type": "code",
   "execution_count": 122,
   "metadata": {},
   "outputs": [],
   "source": [
    "length_of_vaccine_type_key_2018 = len(vaccine_type_key_2018['Key '])"
   ]
  },
  {
   "cell_type": "code",
   "execution_count": 123,
   "metadata": {},
   "outputs": [],
   "source": [
    "Inactivated_2018 = []\n",
    "SRPC_2018 = []\n",
    "Combined_2018 = []\n",
    "Toxoid_2018=[]\n",
    "LiveAttenuated_2018 = []\n",
    "\n",
    "for i in range(length_of_vaccine_type_key_2018):\n",
    "    if vaccine_type_key_2018.iloc[i,1] == \"Inactivated\":\n",
    "        Inactivated_2018.append(vaccine_type_key_2018.iloc[i,0])\n",
    "        \n",
    "    elif vaccine_type_key_2018.iloc[i,1] == \"Combined\":\n",
    "        Combined_2018.append(vaccine_type_key_2018.iloc[i,0])\n",
    "        \n",
    "    elif vaccine_type_key_2018.iloc[i,1] == \"SRPC\":\n",
    "        SRPC_2018.append(vaccine_type_key_2018.iloc[i,0])\n",
    "        \n",
    "    elif vaccine_type_key_2018.iloc[i,1] == \"Live-Attenuated\":\n",
    "        LiveAttenuated_2018.append(vaccine_type_key_2018.iloc[i,0])\n",
    "    \n",
    "    elif vaccine_type_key_2018.iloc[i,1] == \"Toxoid\":\n",
    "        Toxoid_2018.append(vaccine_type_key_2018.iloc[i,0])\n",
    "  \n",
    "        \n",
    "   "
   ]
  },
  {
   "cell_type": "code",
   "execution_count": 125,
   "metadata": {},
   "outputs": [
    {
     "name": "stdout",
     "output_type": "stream",
     "text": [
      "VACCINE NOT SPECIFIED\n",
      "VACCINE NOT SPECIFIED\n",
      "VACCINE NOT SPECIFIED\n",
      "VACCINE NOT SPECIFIED\n",
      "VACCINE NOT SPECIFIED\n",
      "VACCINE NOT SPECIFIED\n",
      "VACCINE NOT SPECIFIED\n",
      "VACCINE NOT SPECIFIED\n",
      "VACCINE NOT SPECIFIED\n",
      "VACCINE NOT SPECIFIED\n",
      "VACCINE NOT SPECIFIED\n",
      "VACCINE NOT SPECIFIED\n",
      "VACCINE NOT SPECIFIED\n",
      "VACCINE NOT SPECIFIED\n",
      "VACCINE NOT SPECIFIED\n",
      "VACCINE NOT SPECIFIED\n",
      "VACCINE NOT SPECIFIED\n",
      "VACCINE NOT SPECIFIED\n",
      "VACCINE NOT SPECIFIED\n",
      "VACCINE NOT SPECIFIED\n",
      "VACCINE NOT SPECIFIED\n",
      "VACCINE NOT SPECIFIED\n",
      "VACCINE NOT SPECIFIED\n",
      "VACCINE NOT SPECIFIED\n",
      "VACCINE NOT SPECIFIED\n",
      "VACCINE NOT SPECIFIED\n",
      "VACCINE NOT SPECIFIED\n",
      "VACCINE NOT SPECIFIED\n",
      "VACCINE NOT SPECIFIED\n",
      "VACCINE NOT SPECIFIED\n",
      "VACCINE NOT SPECIFIED\n",
      "VACCINE NOT SPECIFIED\n",
      "VACCINE NOT SPECIFIED\n",
      "VACCINE NOT SPECIFIED\n",
      "VACCINE NOT SPECIFIED\n",
      "VACCINE NOT SPECIFIED\n",
      "VACCINE NOT SPECIFIED\n",
      "VACCINE NOT SPECIFIED\n",
      "VACCINE NOT SPECIFIED\n",
      "VACCINE NOT SPECIFIED\n",
      "VACCINE NOT SPECIFIED\n",
      "VACCINE NOT SPECIFIED\n",
      "VACCINE NOT SPECIFIED\n",
      "VACCINE NOT SPECIFIED\n",
      "VACCINE NOT SPECIFIED\n",
      "VACCINE NOT SPECIFIED\n",
      "VACCINE NOT SPECIFIED\n",
      "VACCINE NOT SPECIFIED\n",
      "VACCINE NOT SPECIFIED\n",
      "VACCINE NOT SPECIFIED\n",
      "VACCINE NOT SPECIFIED\n",
      "VACCINE NOT SPECIFIED\n",
      "VACCINE NOT SPECIFIED\n",
      "VACCINE NOT SPECIFIED\n",
      "VACCINE NOT SPECIFIED\n",
      "VACCINE NOT SPECIFIED\n",
      "VACCINE NOT SPECIFIED\n",
      "VACCINE NOT SPECIFIED\n",
      "VACCINE NOT SPECIFIED\n",
      "VACCINE NOT SPECIFIED\n",
      "VACCINE NOT SPECIFIED\n",
      "VACCINE NOT SPECIFIED\n",
      "VACCINE NOT SPECIFIED\n",
      "VACCINE NOT SPECIFIED\n",
      "VACCINE NOT SPECIFIED\n",
      "VACCINE NOT SPECIFIED\n",
      "VACCINE NOT SPECIFIED\n",
      "VACCINE NOT SPECIFIED\n",
      "VACCINE NOT SPECIFIED\n",
      "VACCINE NOT SPECIFIED\n",
      "VACCINE NOT SPECIFIED\n",
      "VACCINE NOT SPECIFIED\n",
      "VACCINE NOT SPECIFIED\n",
      "VACCINE NOT SPECIFIED\n",
      "VACCINE NOT SPECIFIED\n",
      "VACCINE NOT SPECIFIED\n",
      "VACCINE NOT SPECIFIED\n",
      "VACCINE NOT SPECIFIED\n",
      "VACCINE NOT SPECIFIED\n",
      "VACCINE NOT SPECIFIED\n",
      "VACCINE NOT SPECIFIED\n",
      "VACCINE NOT SPECIFIED\n",
      "VACCINE NOT SPECIFIED\n",
      "VACCINE NOT SPECIFIED\n",
      "VACCINE NOT SPECIFIED\n",
      "VACCINE NOT SPECIFIED\n",
      "VACCINE NOT SPECIFIED\n",
      "VACCINE NOT SPECIFIED\n",
      "VACCINE NOT SPECIFIED\n",
      "VACCINE NOT SPECIFIED\n",
      "VACCINE NOT SPECIFIED\n",
      "VACCINE NOT SPECIFIED\n",
      "VACCINE NOT SPECIFIED\n",
      "VACCINE NOT SPECIFIED\n",
      "VACCINE NOT SPECIFIED\n",
      "VACCINE NOT SPECIFIED\n",
      "VACCINE NOT SPECIFIED\n",
      "VACCINE NOT SPECIFIED\n",
      "VACCINE NOT SPECIFIED\n",
      "VACCINE NOT SPECIFIED\n",
      "VACCINE NOT SPECIFIED\n",
      "VACCINE NOT SPECIFIED\n",
      "VACCINE NOT SPECIFIED\n",
      "VACCINE NOT SPECIFIED\n",
      "VACCINE NOT SPECIFIED\n",
      "VACCINE NOT SPECIFIED\n",
      "VACCINE NOT SPECIFIED\n",
      "VACCINE NOT SPECIFIED\n",
      "VACCINE NOT SPECIFIED\n",
      "VACCINE NOT SPECIFIED\n",
      "VACCINE NOT SPECIFIED\n",
      "VACCINE NOT SPECIFIED\n",
      "VACCINE NOT SPECIFIED\n",
      "VACCINE NOT SPECIFIED\n",
      "VACCINE NOT SPECIFIED\n",
      "VACCINE NOT SPECIFIED\n",
      "VACCINE NOT SPECIFIED\n",
      "VACCINE NOT SPECIFIED\n",
      "VACCINE NOT SPECIFIED\n",
      "VACCINE NOT SPECIFIED\n",
      "VACCINE NOT SPECIFIED\n",
      "VACCINE NOT SPECIFIED\n",
      "VACCINE NOT SPECIFIED\n",
      "VACCINE NOT SPECIFIED\n",
      "VACCINE NOT SPECIFIED\n",
      "VACCINE NOT SPECIFIED\n",
      "VACCINE NOT SPECIFIED\n",
      "VACCINE NOT SPECIFIED\n",
      "VACCINE NOT SPECIFIED\n",
      "VACCINE NOT SPECIFIED\n",
      "VACCINE NOT SPECIFIED\n",
      "VACCINE NOT SPECIFIED\n",
      "VACCINE NOT SPECIFIED\n",
      "VACCINE NOT SPECIFIED\n",
      "VACCINE NOT SPECIFIED\n",
      "VACCINE NOT SPECIFIED\n",
      "VACCINE NOT SPECIFIED\n",
      "VACCINE NOT SPECIFIED\n",
      "VACCINE NOT SPECIFIED\n",
      "VACCINE NOT SPECIFIED\n",
      "VACCINE NOT SPECIFIED\n",
      "VACCINE NOT SPECIFIED\n",
      "VACCINE NOT SPECIFIED\n",
      "VACCINE NOT SPECIFIED\n",
      "VACCINE NOT SPECIFIED\n",
      "VACCINE NOT SPECIFIED\n",
      "VACCINE NOT SPECIFIED\n",
      "VACCINE NOT SPECIFIED\n",
      "VACCINE NOT SPECIFIED\n",
      "VACCINE NOT SPECIFIED\n",
      "VACCINE NOT SPECIFIED\n",
      "VACCINE NOT SPECIFIED\n",
      "VACCINE NOT SPECIFIED\n",
      "VACCINE NOT SPECIFIED\n",
      "VACCINE NOT SPECIFIED\n",
      "VACCINE NOT SPECIFIED\n",
      "VACCINE NOT SPECIFIED\n",
      "VACCINE NOT SPECIFIED\n",
      "VACCINE NOT SPECIFIED\n",
      "VACCINE NOT SPECIFIED\n",
      "VACCINE NOT SPECIFIED\n",
      "VACCINE NOT SPECIFIED\n",
      "VACCINE NOT SPECIFIED\n",
      "VACCINE NOT SPECIFIED\n",
      "VACCINE NOT SPECIFIED\n",
      "VACCINE NOT SPECIFIED\n",
      "VACCINE NOT SPECIFIED\n",
      "VACCINE NOT SPECIFIED\n",
      "VACCINE NOT SPECIFIED\n",
      "VACCINE NOT SPECIFIED\n",
      "VACCINE NOT SPECIFIED\n",
      "VACCINE NOT SPECIFIED\n",
      "VACCINE NOT SPECIFIED\n",
      "VACCINE NOT SPECIFIED\n",
      "VACCINE NOT SPECIFIED\n",
      "VACCINE NOT SPECIFIED\n",
      "VACCINE NOT SPECIFIED\n",
      "VACCINE NOT SPECIFIED\n",
      "VACCINE NOT SPECIFIED\n",
      "VACCINE NOT SPECIFIED\n",
      "VACCINE NOT SPECIFIED\n",
      "VACCINE NOT SPECIFIED\n",
      "VACCINE NOT SPECIFIED\n",
      "VACCINE NOT SPECIFIED\n",
      "VACCINE NOT SPECIFIED\n",
      "VACCINE NOT SPECIFIED\n",
      "VACCINE NOT SPECIFIED\n",
      "VACCINE NOT SPECIFIED\n",
      "VACCINE NOT SPECIFIED\n",
      "VACCINE NOT SPECIFIED\n",
      "VACCINE NOT SPECIFIED\n",
      "VACCINE NOT SPECIFIED\n",
      "VACCINE NOT SPECIFIED\n",
      "VACCINE NOT SPECIFIED\n",
      "VACCINE NOT SPECIFIED\n",
      "VACCINE NOT SPECIFIED\n",
      "VACCINE NOT SPECIFIED\n",
      "VACCINE NOT SPECIFIED\n",
      "VACCINE NOT SPECIFIED\n",
      "VACCINE NOT SPECIFIED\n",
      "VACCINE NOT SPECIFIED\n",
      "VACCINE NOT SPECIFIED\n",
      "VACCINE NOT SPECIFIED\n",
      "VACCINE NOT SPECIFIED\n",
      "VACCINE NOT SPECIFIED\n",
      "VACCINE NOT SPECIFIED\n",
      "VACCINE NOT SPECIFIED\n",
      "VACCINE NOT SPECIFIED\n",
      "VACCINE NOT SPECIFIED\n",
      "VACCINE NOT SPECIFIED\n",
      "VACCINE NOT SPECIFIED\n",
      "VACCINE NOT SPECIFIED\n",
      "VACCINE NOT SPECIFIED\n",
      "VACCINE NOT SPECIFIED\n",
      "VACCINE NOT SPECIFIED\n",
      "VACCINE NOT SPECIFIED\n",
      "VACCINE NOT SPECIFIED\n",
      "VACCINE NOT SPECIFIED\n",
      "VACCINE NOT SPECIFIED\n",
      "VACCINE NOT SPECIFIED\n",
      "VACCINE NOT SPECIFIED\n",
      "VACCINE NOT SPECIFIED\n",
      "VACCINE NOT SPECIFIED\n",
      "VACCINE NOT SPECIFIED\n",
      "VACCINE NOT SPECIFIED\n",
      "VACCINE NOT SPECIFIED\n",
      "VACCINE NOT SPECIFIED\n",
      "VACCINE NOT SPECIFIED\n",
      "VACCINE NOT SPECIFIED\n",
      "VACCINE NOT SPECIFIED\n",
      "VACCINE NOT SPECIFIED\n",
      "VACCINE NOT SPECIFIED\n",
      "VACCINE NOT SPECIFIED\n",
      "VACCINE NOT SPECIFIED\n",
      "VACCINE NOT SPECIFIED\n",
      "VACCINE NOT SPECIFIED\n",
      "VACCINE NOT SPECIFIED\n",
      "VACCINE NOT SPECIFIED\n",
      "VACCINE NOT SPECIFIED\n",
      "VACCINE NOT SPECIFIED\n",
      "VACCINE NOT SPECIFIED\n",
      "VACCINE NOT SPECIFIED\n",
      "VACCINE NOT SPECIFIED\n",
      "VACCINE NOT SPECIFIED\n",
      "VACCINE NOT SPECIFIED\n",
      "VACCINE NOT SPECIFIED\n",
      "VACCINE NOT SPECIFIED\n",
      "VACCINE NOT SPECIFIED\n",
      "VACCINE NOT SPECIFIED\n",
      "VACCINE NOT SPECIFIED\n",
      "VACCINE NOT SPECIFIED\n",
      "VACCINE NOT SPECIFIED\n",
      "VACCINE NOT SPECIFIED\n",
      "VACCINE NOT SPECIFIED\n",
      "VACCINE NOT SPECIFIED\n",
      "VACCINE NOT SPECIFIED\n",
      "VACCINE NOT SPECIFIED\n",
      "VACCINE NOT SPECIFIED\n",
      "VACCINE NOT SPECIFIED\n",
      "VACCINE NOT SPECIFIED\n",
      "VACCINE NOT SPECIFIED\n",
      "VACCINE NOT SPECIFIED\n",
      "VACCINE NOT SPECIFIED\n",
      "VACCINE NOT SPECIFIED\n",
      "VACCINE NOT SPECIFIED\n",
      "VACCINE NOT SPECIFIED\n",
      "VACCINE NOT SPECIFIED\n",
      "VACCINE NOT SPECIFIED\n",
      "VACCINE NOT SPECIFIED\n",
      "VACCINE NOT SPECIFIED\n",
      "VACCINE NOT SPECIFIED\n",
      "VACCINE NOT SPECIFIED\n",
      "VACCINE NOT SPECIFIED\n",
      "VACCINE NOT SPECIFIED\n",
      "VACCINE NOT SPECIFIED\n",
      "VACCINE NOT SPECIFIED\n",
      "VACCINE NOT SPECIFIED\n",
      "VACCINE NOT SPECIFIED\n",
      "VACCINE NOT SPECIFIED\n",
      "VACCINE NOT SPECIFIED\n",
      "VACCINE NOT SPECIFIED\n",
      "VACCINE NOT SPECIFIED\n",
      "VACCINE NOT SPECIFIED\n",
      "VACCINE NOT SPECIFIED\n",
      "VACCINE NOT SPECIFIED\n",
      "VACCINE NOT SPECIFIED\n",
      "VACCINE NOT SPECIFIED\n",
      "VACCINE NOT SPECIFIED\n",
      "VACCINE NOT SPECIFIED\n",
      "VACCINE NOT SPECIFIED\n",
      "VACCINE NOT SPECIFIED\n",
      "VACCINE NOT SPECIFIED\n",
      "VACCINE NOT SPECIFIED\n",
      "VACCINE NOT SPECIFIED\n",
      "VACCINE NOT SPECIFIED\n",
      "VACCINE NOT SPECIFIED\n",
      "VACCINE NOT SPECIFIED\n",
      "VACCINE NOT SPECIFIED\n",
      "VACCINE NOT SPECIFIED\n",
      "VACCINE NOT SPECIFIED\n",
      "VACCINE NOT SPECIFIED\n",
      "VACCINE NOT SPECIFIED\n",
      "VACCINE NOT SPECIFIED\n",
      "VACCINE NOT SPECIFIED\n",
      "VACCINE NOT SPECIFIED\n"
     ]
    }
   ],
   "source": [
    "vaccine_category_2018 = []\n",
    "\n",
    "\n",
    "for i in df_2018['Vaccine_Name']:\n",
    "    if i in Inactivated_2018:\n",
    "        vaccine_category_2018.append('Inactivated')\n",
    "    elif i in SRPC_2018:\n",
    "        vaccine_category_2018.append('SRPC')\n",
    "    elif i in Combined_2018:\n",
    "        vaccine_category_2018.append('Combined')\n",
    "    elif i in Toxoid_2018:\n",
    "        vaccine_category_2018.append('Toxoid')\n",
    "    elif i in LiveAttenuated_2018:\n",
    "        vaccine_category_2018.append('LiveAttenuated')\n",
    "    else:\n",
    "        print(i)\n",
    "        vaccine_category_2018.append('None')\n",
    "        \n",
    "\n",
    "        \n",
    "\n",
    "\n",
    "\n",
    "        \n",
    "            \n",
    "            "
   ]
  },
  {
   "cell_type": "code",
   "execution_count": 126,
   "metadata": {},
   "outputs": [],
   "source": [
    "df_2018['Vaccine_Category'] = vaccine_category_2018"
   ]
  },
  {
   "cell_type": "code",
   "execution_count": 127,
   "metadata": {},
   "outputs": [
    {
     "data": {
      "text/html": [
       "<div>\n",
       "<style scoped>\n",
       "    .dataframe tbody tr th:only-of-type {\n",
       "        vertical-align: middle;\n",
       "    }\n",
       "\n",
       "    .dataframe tbody tr th {\n",
       "        vertical-align: top;\n",
       "    }\n",
       "\n",
       "    .dataframe thead th {\n",
       "        text-align: right;\n",
       "    }\n",
       "</style>\n",
       "<table border=\"1\" class=\"dataframe\">\n",
       "  <thead>\n",
       "    <tr style=\"text-align: right;\">\n",
       "      <th></th>\n",
       "      <th>VAERS_ID</th>\n",
       "      <th>SEX</th>\n",
       "      <th>STATE</th>\n",
       "      <th>AGE_YRS</th>\n",
       "      <th>Vaccine_Name</th>\n",
       "      <th>Age_Categories</th>\n",
       "      <th>Vaccine_Category</th>\n",
       "    </tr>\n",
       "  </thead>\n",
       "  <tbody>\n",
       "    <tr>\n",
       "      <th>0</th>\n",
       "      <td>732217</td>\n",
       "      <td>F</td>\n",
       "      <td>TN</td>\n",
       "      <td>66.00</td>\n",
       "      <td>VACCINE NOT SPECIFIED</td>\n",
       "      <td>60 or Older</td>\n",
       "      <td>None</td>\n",
       "    </tr>\n",
       "    <tr>\n",
       "      <th>1</th>\n",
       "      <td>732218</td>\n",
       "      <td>F</td>\n",
       "      <td>NY</td>\n",
       "      <td>0.33</td>\n",
       "      <td>DTAP + IPV + HIB</td>\n",
       "      <td>2-4 months</td>\n",
       "      <td>Combined</td>\n",
       "    </tr>\n",
       "    <tr>\n",
       "      <th>2</th>\n",
       "      <td>732218</td>\n",
       "      <td>F</td>\n",
       "      <td>NY</td>\n",
       "      <td>0.33</td>\n",
       "      <td>PNEUMO</td>\n",
       "      <td>2-4 months</td>\n",
       "      <td>SRPC</td>\n",
       "    </tr>\n",
       "    <tr>\n",
       "      <th>3</th>\n",
       "      <td>732218</td>\n",
       "      <td>F</td>\n",
       "      <td>NY</td>\n",
       "      <td>0.33</td>\n",
       "      <td>ROTAVIRUS</td>\n",
       "      <td>2-4 months</td>\n",
       "      <td>LiveAttenuated</td>\n",
       "    </tr>\n",
       "    <tr>\n",
       "      <th>4</th>\n",
       "      <td>732219</td>\n",
       "      <td>F</td>\n",
       "      <td>NY</td>\n",
       "      <td>71.00</td>\n",
       "      <td>ZOSTER</td>\n",
       "      <td>60 or Older</td>\n",
       "      <td>SRPC</td>\n",
       "    </tr>\n",
       "  </tbody>\n",
       "</table>\n",
       "</div>"
      ],
      "text/plain": [
       "   VAERS_ID SEX STATE  AGE_YRS           Vaccine_Name Age_Categories  \\\n",
       "0    732217   F    TN    66.00  VACCINE NOT SPECIFIED    60 or Older   \n",
       "1    732218   F    NY     0.33       DTAP + IPV + HIB     2-4 months   \n",
       "2    732218   F    NY     0.33                 PNEUMO     2-4 months   \n",
       "3    732218   F    NY     0.33              ROTAVIRUS     2-4 months   \n",
       "4    732219   F    NY    71.00                 ZOSTER    60 or Older   \n",
       "\n",
       "  Vaccine_Category  \n",
       "0             None  \n",
       "1         Combined  \n",
       "2             SRPC  \n",
       "3   LiveAttenuated  \n",
       "4             SRPC  "
      ]
     },
     "execution_count": 127,
     "metadata": {},
     "output_type": "execute_result"
    }
   ],
   "source": [
    "df_2018.head()"
   ]
  },
  {
   "cell_type": "code",
   "execution_count": 128,
   "metadata": {},
   "outputs": [],
   "source": [
    "dataframe_2018 = df_2018.copy()"
   ]
  },
  {
   "cell_type": "markdown",
   "metadata": {},
   "source": [
    "\n",
    "## DF 2: Label Enconding"
   ]
  },
  {
   "cell_type": "markdown",
   "metadata": {},
   "source": [
    "#### Sex"
   ]
  },
  {
   "cell_type": "code",
   "execution_count": 129,
   "metadata": {},
   "outputs": [],
   "source": [
    "le = LabelEncoder()\n",
    "dataframe_2018['Sex2'] = le.fit_transform(dataframe_2018['SEX'])"
   ]
  },
  {
   "cell_type": "code",
   "execution_count": 130,
   "metadata": {},
   "outputs": [
    {
     "data": {
      "text/html": [
       "<div>\n",
       "<style scoped>\n",
       "    .dataframe tbody tr th:only-of-type {\n",
       "        vertical-align: middle;\n",
       "    }\n",
       "\n",
       "    .dataframe tbody tr th {\n",
       "        vertical-align: top;\n",
       "    }\n",
       "\n",
       "    .dataframe thead th {\n",
       "        text-align: right;\n",
       "    }\n",
       "</style>\n",
       "<table border=\"1\" class=\"dataframe\">\n",
       "  <thead>\n",
       "    <tr style=\"text-align: right;\">\n",
       "      <th></th>\n",
       "      <th>VAERS_ID</th>\n",
       "      <th>SEX</th>\n",
       "      <th>STATE</th>\n",
       "      <th>AGE_YRS</th>\n",
       "      <th>Vaccine_Name</th>\n",
       "      <th>Age_Categories</th>\n",
       "      <th>Vaccine_Category</th>\n",
       "      <th>Sex2</th>\n",
       "    </tr>\n",
       "  </thead>\n",
       "  <tbody>\n",
       "    <tr>\n",
       "      <th>0</th>\n",
       "      <td>732217</td>\n",
       "      <td>F</td>\n",
       "      <td>TN</td>\n",
       "      <td>66.00</td>\n",
       "      <td>VACCINE NOT SPECIFIED</td>\n",
       "      <td>60 or Older</td>\n",
       "      <td>None</td>\n",
       "      <td>0</td>\n",
       "    </tr>\n",
       "    <tr>\n",
       "      <th>1</th>\n",
       "      <td>732218</td>\n",
       "      <td>F</td>\n",
       "      <td>NY</td>\n",
       "      <td>0.33</td>\n",
       "      <td>DTAP + IPV + HIB</td>\n",
       "      <td>2-4 months</td>\n",
       "      <td>Combined</td>\n",
       "      <td>0</td>\n",
       "    </tr>\n",
       "  </tbody>\n",
       "</table>\n",
       "</div>"
      ],
      "text/plain": [
       "   VAERS_ID SEX STATE  AGE_YRS           Vaccine_Name Age_Categories  \\\n",
       "0    732217   F    TN    66.00  VACCINE NOT SPECIFIED    60 or Older   \n",
       "1    732218   F    NY     0.33       DTAP + IPV + HIB     2-4 months   \n",
       "\n",
       "  Vaccine_Category  Sex2  \n",
       "0             None     0  \n",
       "1         Combined     0  "
      ]
     },
     "execution_count": 130,
     "metadata": {},
     "output_type": "execute_result"
    }
   ],
   "source": [
    "dataframe_2018.head(2)"
   ]
  },
  {
   "cell_type": "markdown",
   "metadata": {},
   "source": [
    "#### State"
   ]
  },
  {
   "cell_type": "code",
   "execution_count": 131,
   "metadata": {},
   "outputs": [],
   "source": [
    "dataframe_2018['State2'] = le.fit_transform(dataframe_2018['STATE'])"
   ]
  },
  {
   "cell_type": "markdown",
   "metadata": {},
   "source": [
    "#### Drop Null Values"
   ]
  },
  {
   "cell_type": "markdown",
   "metadata": {},
   "source": [
    "### Place Bins"
   ]
  },
  {
   "cell_type": "code",
   "execution_count": 132,
   "metadata": {},
   "outputs": [],
   "source": [
    "bins = [0,.17,.33,.5,1,2,3,6,10,13,18,26,60,100]"
   ]
  },
  {
   "cell_type": "code",
   "execution_count": 133,
   "metadata": {},
   "outputs": [],
   "source": [
    "lablels = ['less than 2 months', '2-4 months', '4-6 months',\n",
    "          '6 months - 1 year', '1-2 y', '2-3y', '3-6 y',\n",
    "          '6-10y' , '10-13y', '13-18y', '18-26y', '26-60', '60 or Older'\n",
    "         ]"
   ]
  },
  {
   "cell_type": "code",
   "execution_count": 134,
   "metadata": {},
   "outputs": [],
   "source": [
    "dataframe_2018['Age_Categories'] = pd.cut(dataframe_2018['AGE_YRS'], bins, labels= lablels)"
   ]
  },
  {
   "cell_type": "code",
   "execution_count": 135,
   "metadata": {},
   "outputs": [
    {
     "data": {
      "text/html": [
       "<div>\n",
       "<style scoped>\n",
       "    .dataframe tbody tr th:only-of-type {\n",
       "        vertical-align: middle;\n",
       "    }\n",
       "\n",
       "    .dataframe tbody tr th {\n",
       "        vertical-align: top;\n",
       "    }\n",
       "\n",
       "    .dataframe thead th {\n",
       "        text-align: right;\n",
       "    }\n",
       "</style>\n",
       "<table border=\"1\" class=\"dataframe\">\n",
       "  <thead>\n",
       "    <tr style=\"text-align: right;\">\n",
       "      <th></th>\n",
       "      <th>VAERS_ID</th>\n",
       "      <th>SEX</th>\n",
       "      <th>STATE</th>\n",
       "      <th>AGE_YRS</th>\n",
       "      <th>Vaccine_Name</th>\n",
       "      <th>Age_Categories</th>\n",
       "      <th>Vaccine_Category</th>\n",
       "      <th>Sex2</th>\n",
       "      <th>State2</th>\n",
       "    </tr>\n",
       "  </thead>\n",
       "  <tbody>\n",
       "    <tr>\n",
       "      <th>0</th>\n",
       "      <td>732217</td>\n",
       "      <td>F</td>\n",
       "      <td>TN</td>\n",
       "      <td>66.00</td>\n",
       "      <td>VACCINE NOT SPECIFIED</td>\n",
       "      <td>60 or Older</td>\n",
       "      <td>None</td>\n",
       "      <td>0</td>\n",
       "      <td>46</td>\n",
       "    </tr>\n",
       "    <tr>\n",
       "      <th>1</th>\n",
       "      <td>732218</td>\n",
       "      <td>F</td>\n",
       "      <td>NY</td>\n",
       "      <td>0.33</td>\n",
       "      <td>DTAP + IPV + HIB</td>\n",
       "      <td>2-4 months</td>\n",
       "      <td>Combined</td>\n",
       "      <td>0</td>\n",
       "      <td>36</td>\n",
       "    </tr>\n",
       "    <tr>\n",
       "      <th>2</th>\n",
       "      <td>732218</td>\n",
       "      <td>F</td>\n",
       "      <td>NY</td>\n",
       "      <td>0.33</td>\n",
       "      <td>PNEUMO</td>\n",
       "      <td>2-4 months</td>\n",
       "      <td>SRPC</td>\n",
       "      <td>0</td>\n",
       "      <td>36</td>\n",
       "    </tr>\n",
       "    <tr>\n",
       "      <th>3</th>\n",
       "      <td>732218</td>\n",
       "      <td>F</td>\n",
       "      <td>NY</td>\n",
       "      <td>0.33</td>\n",
       "      <td>ROTAVIRUS</td>\n",
       "      <td>2-4 months</td>\n",
       "      <td>LiveAttenuated</td>\n",
       "      <td>0</td>\n",
       "      <td>36</td>\n",
       "    </tr>\n",
       "    <tr>\n",
       "      <th>4</th>\n",
       "      <td>732219</td>\n",
       "      <td>F</td>\n",
       "      <td>NY</td>\n",
       "      <td>71.00</td>\n",
       "      <td>ZOSTER</td>\n",
       "      <td>60 or Older</td>\n",
       "      <td>SRPC</td>\n",
       "      <td>0</td>\n",
       "      <td>36</td>\n",
       "    </tr>\n",
       "  </tbody>\n",
       "</table>\n",
       "</div>"
      ],
      "text/plain": [
       "   VAERS_ID SEX STATE  AGE_YRS           Vaccine_Name Age_Categories  \\\n",
       "0    732217   F    TN    66.00  VACCINE NOT SPECIFIED    60 or Older   \n",
       "1    732218   F    NY     0.33       DTAP + IPV + HIB     2-4 months   \n",
       "2    732218   F    NY     0.33                 PNEUMO     2-4 months   \n",
       "3    732218   F    NY     0.33              ROTAVIRUS     2-4 months   \n",
       "4    732219   F    NY    71.00                 ZOSTER    60 or Older   \n",
       "\n",
       "  Vaccine_Category  Sex2  State2  \n",
       "0             None     0      46  \n",
       "1         Combined     0      36  \n",
       "2             SRPC     0      36  \n",
       "3   LiveAttenuated     0      36  \n",
       "4             SRPC     0      36  "
      ]
     },
     "execution_count": 135,
     "metadata": {},
     "output_type": "execute_result"
    }
   ],
   "source": [
    "dataframe_2018.head()"
   ]
  },
  {
   "cell_type": "code",
   "execution_count": 136,
   "metadata": {},
   "outputs": [],
   "source": [
    "dataframe_2018['Vaccine_Name2'] = le.fit_transform(dataframe_2018['Vaccine_Name'])"
   ]
  },
  {
   "cell_type": "code",
   "execution_count": 137,
   "metadata": {},
   "outputs": [],
   "source": [
    "dataframe_2018['Age_Categories'] = dataframe_2018['Age_Categories'].astype('str')"
   ]
  },
  {
   "cell_type": "code",
   "execution_count": 138,
   "metadata": {},
   "outputs": [],
   "source": [
    "dataframe_2018['Age_Categories2'] = le.fit_transform(dataframe_2018['Age_Categories'])"
   ]
  },
  {
   "cell_type": "code",
   "execution_count": 139,
   "metadata": {},
   "outputs": [],
   "source": [
    "dataframe_2018['Vaccine_Category2'] = le.fit_transform(dataframe_2018['Vaccine_Category'])"
   ]
  },
  {
   "cell_type": "code",
   "execution_count": 140,
   "metadata": {},
   "outputs": [
    {
     "data": {
      "text/html": [
       "<div>\n",
       "<style scoped>\n",
       "    .dataframe tbody tr th:only-of-type {\n",
       "        vertical-align: middle;\n",
       "    }\n",
       "\n",
       "    .dataframe tbody tr th {\n",
       "        vertical-align: top;\n",
       "    }\n",
       "\n",
       "    .dataframe thead th {\n",
       "        text-align: right;\n",
       "    }\n",
       "</style>\n",
       "<table border=\"1\" class=\"dataframe\">\n",
       "  <thead>\n",
       "    <tr style=\"text-align: right;\">\n",
       "      <th></th>\n",
       "      <th>VAERS_ID</th>\n",
       "      <th>SEX</th>\n",
       "      <th>STATE</th>\n",
       "      <th>AGE_YRS</th>\n",
       "      <th>Vaccine_Name</th>\n",
       "      <th>Age_Categories</th>\n",
       "      <th>Vaccine_Category</th>\n",
       "      <th>Sex2</th>\n",
       "      <th>State2</th>\n",
       "      <th>Vaccine_Name2</th>\n",
       "      <th>Age_Categories2</th>\n",
       "      <th>Vaccine_Category2</th>\n",
       "    </tr>\n",
       "  </thead>\n",
       "  <tbody>\n",
       "    <tr>\n",
       "      <th>0</th>\n",
       "      <td>732217</td>\n",
       "      <td>F</td>\n",
       "      <td>TN</td>\n",
       "      <td>66.00</td>\n",
       "      <td>VACCINE NOT SPECIFIED</td>\n",
       "      <td>60 or Older</td>\n",
       "      <td>None</td>\n",
       "      <td>0</td>\n",
       "      <td>46</td>\n",
       "      <td>41</td>\n",
       "      <td>11</td>\n",
       "      <td>3</td>\n",
       "    </tr>\n",
       "    <tr>\n",
       "      <th>1</th>\n",
       "      <td>732218</td>\n",
       "      <td>F</td>\n",
       "      <td>NY</td>\n",
       "      <td>0.33</td>\n",
       "      <td>DTAP + IPV + HIB</td>\n",
       "      <td>2-4 months</td>\n",
       "      <td>Combined</td>\n",
       "      <td>0</td>\n",
       "      <td>36</td>\n",
       "      <td>8</td>\n",
       "      <td>5</td>\n",
       "      <td>0</td>\n",
       "    </tr>\n",
       "    <tr>\n",
       "      <th>2</th>\n",
       "      <td>732218</td>\n",
       "      <td>F</td>\n",
       "      <td>NY</td>\n",
       "      <td>0.33</td>\n",
       "      <td>PNEUMO</td>\n",
       "      <td>2-4 months</td>\n",
       "      <td>SRPC</td>\n",
       "      <td>0</td>\n",
       "      <td>36</td>\n",
       "      <td>27</td>\n",
       "      <td>5</td>\n",
       "      <td>4</td>\n",
       "    </tr>\n",
       "    <tr>\n",
       "      <th>3</th>\n",
       "      <td>732218</td>\n",
       "      <td>F</td>\n",
       "      <td>NY</td>\n",
       "      <td>0.33</td>\n",
       "      <td>ROTAVIRUS</td>\n",
       "      <td>2-4 months</td>\n",
       "      <td>LiveAttenuated</td>\n",
       "      <td>0</td>\n",
       "      <td>36</td>\n",
       "      <td>31</td>\n",
       "      <td>5</td>\n",
       "      <td>2</td>\n",
       "    </tr>\n",
       "    <tr>\n",
       "      <th>4</th>\n",
       "      <td>732219</td>\n",
       "      <td>F</td>\n",
       "      <td>NY</td>\n",
       "      <td>71.00</td>\n",
       "      <td>ZOSTER</td>\n",
       "      <td>60 or Older</td>\n",
       "      <td>SRPC</td>\n",
       "      <td>0</td>\n",
       "      <td>36</td>\n",
       "      <td>44</td>\n",
       "      <td>11</td>\n",
       "      <td>4</td>\n",
       "    </tr>\n",
       "  </tbody>\n",
       "</table>\n",
       "</div>"
      ],
      "text/plain": [
       "   VAERS_ID SEX STATE  AGE_YRS           Vaccine_Name Age_Categories  \\\n",
       "0    732217   F    TN    66.00  VACCINE NOT SPECIFIED    60 or Older   \n",
       "1    732218   F    NY     0.33       DTAP + IPV + HIB     2-4 months   \n",
       "2    732218   F    NY     0.33                 PNEUMO     2-4 months   \n",
       "3    732218   F    NY     0.33              ROTAVIRUS     2-4 months   \n",
       "4    732219   F    NY    71.00                 ZOSTER    60 or Older   \n",
       "\n",
       "  Vaccine_Category  Sex2  State2  Vaccine_Name2  Age_Categories2  \\\n",
       "0             None     0      46             41               11   \n",
       "1         Combined     0      36              8                5   \n",
       "2             SRPC     0      36             27                5   \n",
       "3   LiveAttenuated     0      36             31                5   \n",
       "4             SRPC     0      36             44               11   \n",
       "\n",
       "   Vaccine_Category2  \n",
       "0                  3  \n",
       "1                  0  \n",
       "2                  4  \n",
       "3                  2  \n",
       "4                  4  "
      ]
     },
     "execution_count": 140,
     "metadata": {},
     "output_type": "execute_result"
    }
   ],
   "source": [
    "dataframe_2018.head()"
   ]
  },
  {
   "cell_type": "markdown",
   "metadata": {},
   "source": [
    "#### Import to csv"
   ]
  },
  {
   "cell_type": "code",
   "execution_count": 147,
   "metadata": {},
   "outputs": [],
   "source": [
    "#df_2018.to_csv(\"df2018_Annine.csv\", index = False)"
   ]
  },
  {
   "cell_type": "code",
   "execution_count": 142,
   "metadata": {},
   "outputs": [],
   "source": [
    "#dataframe_2018.to_csv(\"df2018_Flora.csv\", index = False)"
   ]
  },
  {
   "cell_type": "code",
   "execution_count": 143,
   "metadata": {},
   "outputs": [],
   "source": [
    "#https://sqlify.io/convert/csv/to/sqlite"
   ]
  },
  {
   "cell_type": "code",
   "execution_count": 144,
   "metadata": {},
   "outputs": [],
   "source": [
    "#df_2018.to_csv('df2018_Alex.csv')"
   ]
  },
  {
   "cell_type": "code",
   "execution_count": 145,
   "metadata": {},
   "outputs": [],
   "source": [
    "#df2017.to_csv('df2017_Alex.csv')"
   ]
  },
  {
   "cell_type": "code",
   "execution_count": 146,
   "metadata": {},
   "outputs": [],
   "source": [
    "#dataframe_2018.to_csv('df2018_FloraUpdated.csv')"
   ]
  },
  {
   "cell_type": "code",
   "execution_count": null,
   "metadata": {},
   "outputs": [],
   "source": []
  },
  {
   "cell_type": "code",
   "execution_count": null,
   "metadata": {},
   "outputs": [],
   "source": []
  },
  {
   "cell_type": "code",
   "execution_count": null,
   "metadata": {},
   "outputs": [],
   "source": []
  },
  {
   "cell_type": "code",
   "execution_count": null,
   "metadata": {},
   "outputs": [],
   "source": []
  },
  {
   "cell_type": "code",
   "execution_count": null,
   "metadata": {},
   "outputs": [],
   "source": []
  },
  {
   "cell_type": "code",
   "execution_count": null,
   "metadata": {},
   "outputs": [],
   "source": []
  },
  {
   "cell_type": "code",
   "execution_count": null,
   "metadata": {},
   "outputs": [],
   "source": []
  },
  {
   "cell_type": "code",
   "execution_count": null,
   "metadata": {},
   "outputs": [],
   "source": []
  },
  {
   "cell_type": "code",
   "execution_count": null,
   "metadata": {},
   "outputs": [],
   "source": []
  },
  {
   "cell_type": "code",
   "execution_count": null,
   "metadata": {},
   "outputs": [],
   "source": []
  },
  {
   "cell_type": "code",
   "execution_count": null,
   "metadata": {},
   "outputs": [],
   "source": []
  },
  {
   "cell_type": "code",
   "execution_count": null,
   "metadata": {},
   "outputs": [],
   "source": []
  },
  {
   "cell_type": "code",
   "execution_count": null,
   "metadata": {},
   "outputs": [],
   "source": []
  }
 ],
 "metadata": {
  "kernelspec": {
   "display_name": "Python 3",
   "language": "python",
   "name": "python3"
  },
  "language_info": {
   "codemirror_mode": {
    "name": "ipython",
    "version": 3
   },
   "file_extension": ".py",
   "mimetype": "text/x-python",
   "name": "python",
   "nbconvert_exporter": "python",
   "pygments_lexer": "ipython3",
   "version": "3.7.1"
  }
 },
 "nbformat": 4,
 "nbformat_minor": 2
}
